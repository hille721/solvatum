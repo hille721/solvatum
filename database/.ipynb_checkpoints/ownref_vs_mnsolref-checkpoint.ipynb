{
 "cells": [
  {
   "cell_type": "code",
   "execution_count": 31,
   "metadata": {},
   "outputs": [],
   "source": [
    "from os.path import join as pathjoin\n",
    "from databasehandler import Database\n",
    "import pandas as pd\n",
    "import numpy as np\n",
    "from matplotlib import pyplot as plt\n",
    "%matplotlib inline"
   ]
  },
  {
   "cell_type": "code",
   "execution_count": 21,
   "metadata": {},
   "outputs": [],
   "source": [
    "databasepath = '/data/hille/masterproject/database/database.sdf'\n",
    "\n",
    "d = Database(path=databasepath)\n",
    "\n",
    "mnsol = '/data/hille/MNSolDatabase-v2012/MNSol_alldata.csv'\n",
    "\n",
    "df = pd.read_csv(mnsol, usecols=['SoluteName', 'Solvent', 'DeltaGsolv', 'eps'])\n",
    "\n",
    "mnsolvents = df.Solvent"
   ]
  },
  {
   "cell_type": "code",
   "execution_count": 61,
   "metadata": {},
   "outputs": [
    {
     "name": "stdout",
     "output_type": "stream",
     "text": [
      "ethanol acetophenone -4.12 -3.96 0.16\n",
      "toluene anisole -4.95 -5.14 0.19\n",
      "ethanol benzonitrile -4.05 -3.84 0.21\n",
      "ethanol bromobenzene -3.26 -2.69 0.57\n",
      "1,4-dioxane bromobenzene -5.02 -5.22 0.2\n",
      "toluene bromoethane -5.55 -5.33 0.22\n",
      "1,4-dioxane bromoethane -5.39 -5.05 0.34\n",
      "nitromethane butanone -5.24 -4.98 0.26\n",
      "ethanol chlorobenzene -3.3 -2.69 0.61\n",
      "ethylamine chlorobenzene -2.73 -3.75 1.02\n",
      "m-cresol chloroform -6.7 -7.49 0.79\n",
      "1,4-dioxane chloroform -6.21 -6.06 0.15\n",
      "anisole chloroform -6.24 -6.71 0.47\n",
      "acetophenone chloroform -7.81 -8.39 0.58\n",
      "benzonitrile chloroform -7.22 -7.84 0.62\n",
      "fluorobenzene chloroform -4.25 -4.69 0.44\n",
      "chlorobenzene chloroform -5.45 -5.76 0.31\n",
      "bromobenzene chloroform -6.07 -6.41 0.34\n",
      "triethylphosphate chloroform -10.9 -10.65 0.25\n",
      "acetamide chloroform -7.05 -7.6 0.55\n",
      "fluorotrichloromethane chloroform -2.62 -2.82 0.2\n",
      "N,N-dimethylacetamide chloroform -8.38 -8.06 0.32\n",
      "benzene decane -3.8 -3.98 0.18\n",
      "ethanol decane -2.44 -2.16 0.28\n",
      "nitromethane decane -2.81 -2.62 0.19\n",
      "methanol dichloroethane -2.53 -2.95 0.42\n",
      "ethanol dichloroethane -2.83 -3.64 0.81\n",
      "1-propanol dichloroethane -3.85 -4.34 0.49\n",
      "chlorobenzene ethanol -3.3 -5.02 1.72\n",
      "methanol ethylbenzene -1.43 -2.32 0.89\n",
      "ethanol ethylbenzene -2.49 -3.02 0.53\n",
      "ethanol fluorobenzene -3.45 -3.25 0.2\n",
      "m-xylene heptane -5.67 -5.39 0.28\n",
      "methanol heptane -1.29 -1.64 0.35\n",
      "m-cresol heptane -5.01 -5.77 0.76\n",
      "acetonitrile heptane -2.06 -2.28 0.22\n",
      "acetonitrile hexadecane -2.37 -2.13 0.24\n",
      "fluorobenzene hexadecane -4.03 -3.87 0.16\n",
      "1,2-dichlorobenzene hexadecane -6.16 -6.01 0.15\n",
      "ammonia hexadecane -0.93 -0.37 0.56\n",
      "3,4-dimethylpyridine hexadecane -2.58 -5.95 3.37\n",
      "3,5-dimethylpyridine hexadecane -2.52 -5.8 3.28\n",
      "4-ethylpyridine hexadecane -2.45 -5.65 3.2\n",
      "ethylbenzene hexane -4.99 -5.35 0.36\n",
      "ethanol hexane -2.73 -2.28 0.45\n",
      "1-propanol hexane -2.81 -3.02 0.21\n",
      "ethylamine hexane -2.09 -2.29 0.2\n",
      "pyridine hexane -3.81 -4.19 0.38\n",
      "nitroethane hexane -3.19 -3.42 0.23\n",
      "chloroform hexane -3.17 -3.62 0.45\n",
      "ethanol iodobenzene -3.18 -2.39 0.79\n",
      "m-cresol iodobenzene -6.04 -6.82 0.78\n",
      "pyridine isobutanol -5.87 -5.68 0.19\n",
      "isopropanol isopropanol -4.82 -4.98 0.16\n",
      "ethanol nitromethane -4.16 -3.88 0.28\n",
      "methanol octane -1.29 -1.45 0.16\n",
      "m-cresol octane -5.19 -5.79 0.6\n",
      "p-cresol octane -6.19 -5.63 0.56\n",
      "n-butane 1-octanol -1.86 -2.09 0.23\n",
      "cyclohexane 1-octanol -3.46 -3.7 0.24\n",
      "methylcyclohexane 1-octanol -3.21 -4.16 0.95\n",
      "o-xylene 1-octanol -5.07 -5.32 0.25\n",
      "1,4-dioxane 1-octanol -4.89 -4.32 0.57\n",
      "trimethylamine 1-octanol -3.6 -2.65 0.95\n",
      "dipropylamine 1-octanol -6.02 -4.9 1.12\n",
      "piperidine 1-octanol -6.27 -5.51 0.76\n",
      "methylamine 1-octanol -3.78 -2.59 1.19\n",
      "tetrahydropyran 1-octanol -4.21 -4.39 0.18\n",
      "nitromethane perfluorobenzene -4.3 -4.14 0.16\n",
      "ethanol 1-propanol -5.01 -4.79 0.22\n",
      "nitromethane 1-propanol -4.04 -3.89 0.15\n",
      "methanol toluene -2.18 -2.42 0.24\n",
      "ethanol toluene -3.33 -3.0 0.33\n",
      "nitromethane triethylamine -3.63 -3.46 0.17\n",
      "benzene undecane -4.05 -3.86 0.19\n",
      "toluene undecane -4.81 -4.62 0.19\n",
      "ethylbenzene undecane -5.44 -5.25 0.19\n",
      "1,1,1-trichloroethane undecane -3.82 -3.59 0.23\n",
      "chlorobenzene undecane -5.12 -4.94 0.18\n",
      "1,2-dichlorobenzene undecane -6.11 -5.93 0.18\n"
     ]
    }
   ],
   "source": [
    "mnsol2 = []\n",
    "for sol in mnsolvents:\n",
    "    if sol in ['propanol', 'butanol', 'pentanol', 'hexanol', 'heptanol', 'octanol', 'nonanol', 'decanol']:\n",
    "        sol ='1-' + sol\n",
    "    mnsol2 += [sol]\n",
    "    \n",
    "df.Solvent = mnsol2\n",
    "\n",
    "i = 0\n",
    "mnsolref = []\n",
    "ownref = []\n",
    "\n",
    "for index, row in df.iterrows():\n",
    "    if df.Solvent[index].upper() in d.solvents:\n",
    "        if df.Solvent[index] == 'water':\n",
    "            continue\n",
    "        solutes = d.filtering(solvent=df.Solvent[index])[1]\n",
    "        solutes_names = [solute[1] for solute in solutes]\n",
    "        if df.SoluteName[index].upper() in solutes_names:\n",
    "            deltaGsolmnsol = df.DeltaGsolv[index]\n",
    "            deltaGsolown = d.filtering(solute=df.SoluteName[index], solvent=df.Solvent[index])['deltaG_solv']\n",
    "            error = abs(deltaGsolmnsol - deltaGsolown)\n",
    "            if error > 0.15:\n",
    "                print df.SoluteName[index], df.Solvent[index], deltaGsolmnsol, round(deltaGsolown,2), round(error,2)\n",
    "            mnsolref += [deltaGsolmnsol]\n",
    "            ownref += [deltaGsolown] "
   ]
  },
  {
   "cell_type": "markdown",
   "metadata": {},
   "source": [
    "# logK errors\n",
    "Acree estimates the errors to +- 0.08 log units\n",
    "\n",
    "=> Stefan says that this means errors of 2meV for the solvation free energy (0.08 log units multiplies with kt), but that is wrong? Because\n",
    "$$\\Delta G_{\\rm{solv}} = -\\ln(10) * R * T * \\log(K)$$\n",
    "\n",
    "So the estimated errors are:"
   ]
  },
  {
   "cell_type": "code",
   "execution_count": 59,
   "metadata": {},
   "outputs": [
    {
     "name": "stdout",
     "output_type": "stream",
     "text": [
      "estimated error: 0.1091 kcal/mol (4.7326 meV)\n"
     ]
    }
   ],
   "source": [
    "from scipy import constants\n",
    "import math\n",
    "\n",
    "est_error = (0.08 * constants.R * 298.14 * math.log(10))/  (constants.calorie * 1000)\n",
    "est_error_mev = (est_error  * 1000**2 * constants.calorie) / (constants.N_A * constants.eV) \n",
    "\n",
    "print 'estimated error: %.4f kcal/mol (%.4f meV)' %(est_error, est_error_mev)"
   ]
  },
  {
   "cell_type": "code",
   "execution_count": 28,
   "metadata": {
    "scrolled": false
   },
   "outputs": [
    {
     "data": {
      "image/png": "[encoded data removed]",
      "text/plain": [
       "<matplotlib.figure.Figure at 0x2b67b94ab5d0>"
      ]
     },
     "metadata": {},
     "output_type": "display_data"
    }
   ],
   "source": [
    " \n",
    "plt.scatter(ownref, mnsolref)\n",
    "plt.xlabel(r'$\\Delta G_{solv} \\ \\rm{own database}$', fontsize=15)\n",
    "plt.ylabel(r'$\\Delta G_{solv} \\ \\rm{MNSol database}$', fontsize=15)\n",
    "plt.show()"
   ]
  },
  {
   "cell_type": "markdown",
   "metadata": {},
   "source": [
    "# Out layers\n",
    "3,4-dimethylpyridine hexadecane -2.58 -5.95 3.37 \n",
    "\n",
    "3,5-dimethylpyridine hexadecane -2.52 -5.8 3.28\n",
    "\n",
    "4-ethylpyridine hexadecane -2.45 -5.65 3.2"
   ]
  },
  {
   "cell_type": "code",
   "execution_count": 62,
   "metadata": {},
   "outputs": [
    {
     "name": "stdout",
     "output_type": "stream",
     "text": [
      "mean: 0.13\n",
      "std: 0.34\n",
      "max: 3.37\n"
     ]
    }
   ],
   "source": [
    "deviations = np.abs(np.array(ownref) - np.array(mnsolref))\n",
    "print 'mean:', round(deviations.mean(), 2)\n",
    "print 'std:', round(deviations.std(), 2)\n",
    "print 'max:', round(deviations.max(), 2)"
   ]
  }
 ],
 "metadata": {
  "celltoolbar": "Attachments",
  "kernelspec": {
   "display_name": "Python 2",
   "language": "python",
   "name": "python2"
  },
  "language_info": {
   "codemirror_mode": {
    "name": "ipython",
    "version": 2
   },
   "file_extension": ".py",
   "mimetype": "text/x-python",
   "name": "python",
   "nbconvert_exporter": "python",
   "pygments_lexer": "ipython2",
   "version": "2.7.9"
  }
 },
 "nbformat": 4,
 "nbformat_minor": 2
}
